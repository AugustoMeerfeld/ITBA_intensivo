{
 "cells": [
  {
   "cell_type": "markdown",
   "id": "f98dcd10",
   "metadata": {},
   "source": [
    "# 📓 MLflow - Ejemplos básicos\n",
    "# \n",
    "En esta notebook veremos ejemplos sencillos de:\n",
    "- MLflow Tracking\n",
    "- MLflow Projects\n",
    "- MLflow Models\n",
    "- MLflow Model Registry\n",
    "\n",
    "## Instalación y configuración inicial\n",
    "Instalación de MLflow (descomentar si no lo tienes instalado)\n",
    "!pip install mlflow\n"
   ]
  },
  {
   "cell_type": "code",
   "execution_count": 1,
   "id": "fc406509",
   "metadata": {},
   "outputs": [],
   "source": [
    "# ========================\n",
    "# MLflow - Ejemplos básicos\n",
    "# ========================\n",
    "\n",
    "# Instalación (si es necesario)\n",
    "# !pip install mlflow\n",
    "\n",
    "import mlflow\n",
    "import mlflow.sklearn\n",
    "from sklearn.linear_model import LinearRegression\n",
    "from sklearn.datasets import make_regression\n",
    "from sklearn.model_selection import train_test_split\n",
    "import os\n",
    "import yaml\n",
    "import pandas as pd\n",
    "# Crear carpeta para artefactos si no existe\n",
    "os.makedirs(\"outputs\", exist_ok=True)\n"
   ]
  },
  {
   "cell_type": "markdown",
   "id": "e03fc250",
   "metadata": {},
   "source": [
    "## 🧩 1. MLflow Tracking\n",
    " \n",
    "### 📄 Descripción\n",
    "Con **MLflow Tracking** registramos:\n",
    " - Parámetros (por ejemplo, hiperparámetros de un modelo).\n",
    " - Métricas (precisión, error, R2, etc.).\n",
    " - Artefactos (modelos entrenados, imágenes, datasets).\n",
    " \n",
    "Todo queda guardado en un historial organizado para análisis y comparación.\n"
   ]
  },
  {
   "cell_type": "markdown",
   "id": "3b966091",
   "metadata": {},
   "source": [
    "## Nombre del proyecto y url de MLFlow local"
   ]
  },
  {
   "cell_type": "code",
   "execution_count": 2,
   "id": "3e3914f3",
   "metadata": {},
   "outputs": [
    {
     "name": "stderr",
     "output_type": "stream",
     "text": [
      "2025/05/11 21:37:29 INFO mlflow.tracking.fluent: Experiment with name 'Regresion lineal 4' does not exist. Creating a new experiment.\n"
     ]
    },
    {
     "data": {
      "text/plain": [
       "<Experiment: artifact_location='file:///c:/Users/guill/OneDrive/Documentos/simplegit/ITBA/mlruns/920470422329662775', creation_time=1747010249879, experiment_id='920470422329662775', last_update_time=1747010249879, lifecycle_stage='active', name='Regresion lineal 4', tags={}>"
      ]
     },
     "execution_count": 2,
     "metadata": {},
     "output_type": "execute_result"
    }
   ],
   "source": [
    "#mlflow.set_tracking_uri(\"http://localhost:5000\")  # o la IP donde esté el Docker\n",
    "mlflow.set_experiment(\"Regresion lineal 4\")"
   ]
  },
  {
   "cell_type": "code",
   "execution_count": 3,
   "id": "67a3ecac",
   "metadata": {},
   "outputs": [],
   "source": [
    "# Datos ficticios\n",
    "X, y = make_regression(n_samples=100, n_features=1, noise=0.1, random_state=42)\n",
    "X_train, X_test, y_train, y_test = train_test_split(X, y, random_state=42)\n",
    "\n",
    "# 2. Guardar los datasets como CSV\n",
    "os.makedirs(\"data\", exist_ok=True)\n",
    "pd.DataFrame(X_train, columns=[\"x\"]).to_csv(\"data/X_train.csv\", index=False)\n",
    "pd.DataFrame(X_test, columns=[\"x\"]).to_csv(\"data/X_test.csv\", index=False)\n",
    "pd.DataFrame(y_train, columns=[\"y\"]).to_csv(\"data/y_train.csv\", index=False)\n",
    "pd.DataFrame(y_test, columns=[\"y\"]).to_csv(\"data/y_test.csv\", index=False)\n"
   ]
  },
  {
   "cell_type": "code",
   "execution_count": 3,
   "id": "b3607504",
   "metadata": {},
   "outputs": [
    {
     "name": "stderr",
     "output_type": "stream",
     "text": [
      "2025/05/11 20:54:24 WARNING mlflow.models.model: Model logged without a signature and input example. Please set `input_example` parameter when logging the model to auto infer the model signature.\n"
     ]
    },
    {
     "name": "stdout",
     "output_type": "stream",
     "text": [
      "Modelo guardado con R2: 1.00\n"
     ]
    }
   ],
   "source": [
    "# Ejemplo sencillo de Tracking\n",
    "\n",
    "\n",
    "# Empezar una corrida (run)\n",
    "with mlflow.start_run(run_name=\"linear_regression_example 2\"):\n",
    "    # Modelo\n",
    "    model = LinearRegression()\n",
    "    model.fit(X_train, y_train)\n",
    "    \n",
    "    # Parámetro (en este caso no hay hiperparámetros, así que lo simulamos)\n",
    "    mlflow.log_param(\"model_type\", \"LinearRegression\")\n",
    "    \n",
    "    # Métrica\n",
    "    score = model.score(X_test, y_test)\n",
    "    mlflow.log_metric(\"r2_score\", score)\n",
    "    \n",
    "    # Guardar el modelo\n",
    "    mlflow.sklearn.log_model(model, artifact_path=\"model\")\n",
    "    \n",
    "    print(f\"Modelo guardado con R2: {score:.2f}\")\n"
   ]
  },
  {
   "cell_type": "code",
   "execution_count": 4,
   "id": "125efc2c",
   "metadata": {},
   "outputs": [
    {
     "name": "stderr",
     "output_type": "stream",
     "text": [
      "2025/05/11 21:37:45 WARNING mlflow.models.model: Model logged without a signature and input example. Please set `input_example` parameter when logging the model to auto infer the model signature.\n"
     ]
    },
    {
     "name": "stdout",
     "output_type": "stream",
     "text": [
      "Modelo Ridge guardado con R2: 1.00\n"
     ]
    }
   ],
   "source": [
    "from sklearn.linear_model import Ridge\n",
    "\n",
    "with mlflow.start_run(run_name=\"ridge_regression_example 3\"):\n",
    "    alpha = 0.7\n",
    "    model = Ridge(alpha=alpha)\n",
    "    model.fit(X_train, y_train)\n",
    "\n",
    "    mlflow.log_param(\"model_type\", \"Ridge\")\n",
    "    mlflow.log_param(\"alpha\", alpha)\n",
    "\n",
    "    score = model.score(X_test, y_test)\n",
    "    mlflow.log_metric(\"r2_score\", score)\n",
    "\n",
    "    mlflow.sklearn.log_model(model, artifact_path=\"model\")\n",
    "    print(f\"Modelo Ridge guardado con R2: {score:.2f}\")\n",
    "    X_train_path = \"data/X_train.csv\"\n",
    "    X_test_path = \"data/X_test.csv\"\n",
    "    y_train_path = \"data/y_train.csv\"\n",
    "    y_test_path = \"data/y_test.csv\"\n",
    "    mlflow.log_artifact(X_train_path, artifact_path=\"datasets\")\n",
    "    mlflow.log_artifact(X_test_path, artifact_path=\"datasets\")\n",
    "    mlflow.log_artifact(y_train_path, artifact_path=\"datasets\")\n",
    "    mlflow.log_artifact(y_test_path, artifact_path=\"datasets\")\n",
    "    "
   ]
  },
  {
   "cell_type": "code",
   "execution_count": 5,
   "id": "e9ca6bfe",
   "metadata": {},
   "outputs": [],
   "source": [
    "import mlflow\n",
    "import numpy as np\n",
    "\n",
    "with mlflow.start_run(run_name=\"training_with_curve\"):\n",
    "    for epoch in range(10):\n",
    "        # Simulación de loss que baja\n",
    "        loss = np.exp(-epoch / 5)\n",
    "\n",
    "        # Logueás la métrica con `step` para que MLflow genere la curva\n",
    "        mlflow.log_metric(\"loss\", loss, step=epoch)\n"
   ]
  },
  {
   "cell_type": "code",
   "execution_count": 53,
   "id": "4e4809f5",
   "metadata": {},
   "outputs": [],
   "source": [
    "mlflow.set_experiment(\"Regresion lineal 6\")\n",
    "\n",
    "mlflow.set_tag(\"model_name\", \"RandomForest\")\n",
    "mlflow.set_tag(\"experiment\", \"baseline\")\n",
    "\n",
    "models = {\"LinearRegression\": LinearRegression(), \"Ridge\": Ridge(alpha=0.5)}\n",
    "\n"
   ]
  },
  {
   "cell_type": "code",
   "execution_count": 56,
   "id": "dd9b0482",
   "metadata": {},
   "outputs": [
    {
     "name": "stderr",
     "output_type": "stream",
     "text": [
      "2025/05/11 22:42:47 WARNING mlflow.models.model: Model logged without a signature and input example. Please set `input_example` parameter when logging the model to auto infer the model signature.\n",
      "2025/05/11 22:42:49 WARNING mlflow.models.model: Model logged without a signature and input example. Please set `input_example` parameter when logging the model to auto infer the model signature.\n"
     ]
    }
   ],
   "source": [
    "mlflow.end_run()\n",
    "for name, model in models.items():\n",
    "    with mlflow.start_run(run_name=name):\n",
    "        mlflow.set_tag(\"model_name\", name)\n",
    "\n",
    "        for epoch in range(10):\n",
    "            loss = np.exp(-epoch / 5)  # Ejemplo de pérdida\n",
    "            mlflow.log_metric(\"loss\", loss, step=epoch)\n",
    "\n",
    "        mlflow.sklearn.log_model(model, artifact_path=\"model\")\n",
    "\n"
   ]
  },
  {
   "cell_type": "code",
   "execution_count": 58,
   "id": "dd92e968",
   "metadata": {},
   "outputs": [
    {
     "name": "stderr",
     "output_type": "stream",
     "text": [
      "2025/05/11 22:50:38 INFO mlflow.tracking.fluent: Experiment with name 'Seleccionar mejor modelo' does not exist. Creating a new experiment.\n",
      "2025/05/11 22:50:40 WARNING mlflow.models.model: Model logged without a signature and input example. Please set `input_example` parameter when logging the model to auto infer the model signature.\n",
      "2025/05/11 22:50:42 WARNING mlflow.models.model: Model logged without a signature and input example. Please set `input_example` parameter when logging the model to auto infer the model signature.\n"
     ]
    }
   ],
   "source": [
    "mlflow.set_experiment(\"Seleccionar mejor modelo\")\n",
    "\n",
    "import mlflow\n",
    "import mlflow.sklearn\n",
    "import numpy as np\n",
    "from sklearn.linear_model import LinearRegression, Ridge\n",
    "from sklearn.model_selection import train_test_split\n",
    "from sklearn.metrics import mean_squared_error\n",
    "\n",
    "# Datos ficticios\n",
    "X, y = make_regression(n_samples=100, n_features=1, noise=0.1, random_state=42)\n",
    "X_train, X_test, y_train, y_test = train_test_split(X, y, random_state=42)\n",
    "\n",
    "# Modelos a evaluar\n",
    "models = {\"LinearRegression\": LinearRegression(), \"Ridge\": Ridge(alpha=0.5)}\n",
    "\n",
    "best_model = None\n",
    "best_score = -np.inf  # Mejor score encontrado (por ejemplo, R2 o MSE)\n",
    "\n",
    "# Comenzamos los experimentos para cada modelo\n",
    "for name, model in models.items():\n",
    "    with mlflow.start_run(run_name=name):\n",
    "        mlflow.set_tag(\"model_name\", name)\n",
    "\n",
    "        # Entrenamiento\n",
    "        model.fit(X_train, y_train)\n",
    "\n",
    "        # Predicciones y métricas\n",
    "        y_pred = model.predict(X_test)\n",
    "        score = mean_squared_error(y_test, y_pred)  # Usamos MSE como ejemplo\n",
    "        \n",
    "        # Registro de parámetros y métricas\n",
    "        mlflow.log_param(\"model_type\", name)\n",
    "        mlflow.log_metric(\"mse\", score)\n",
    "        \n",
    "        # Guardamos el modelo\n",
    "        mlflow.sklearn.log_model(model, artifact_path=\"model\")\n",
    "        \n",
    "        # Evaluamos cuál es el mejor modelo\n",
    "        if score < best_score:  # MSE más bajo es mejor\n",
    "            best_score = score\n",
    "            best_model = model\n",
    "            mlflow.log_param(\"best_model\", True)  # Marcamos el modelo ganador\n",
    "\n",
    "# Ahora puedes registrar el mejor modelo global\n",
    "if best_model:\n",
    "    with mlflow.start_run(run_name=\"Best_Model\"):\n",
    "        mlflow.log_param(\"best_model_name\", best_model.__class__.__name__)\n",
    "        mlflow.sklearn.log_model(best_model, artifact_path=\"best_model\")\n",
    "        print(\"Modelo ganador registrado!\")\n"
   ]
  },
  {
   "cell_type": "markdown",
   "id": "fc8efb44",
   "metadata": {},
   "source": [
    "## 🧩 2. MLflow Projects\n",
    " \n",
    "### 📄 Descripción\n",
    "**MLflow Projects** define un estándar para empaquetar proyectos de ML, haciéndolos:\n",
    " - Reproducibles (cualquiera puede correrlo igual).\n",
    " - Ejecutables localmente o en la nube.\n",
    " - Versionables junto al código.\n",
    " \n",
    "<!-- Utiliza un archivo `MLproject` (YAML) para describir dependencias y comandos de entrada. -->\n"
   ]
  },
  {
   "cell_type": "code",
   "execution_count": 8,
   "id": "0b21d838",
   "metadata": {},
   "outputs": [
    {
     "name": "stdout",
     "output_type": "stream",
     "text": [
      "Archivo MLproject y conda.yaml creados 🎯\n"
     ]
    }
   ],
   "source": [
    "# Creamos un archivo MLproject para definir el proyecto\n",
    "\n",
    "project_yaml = \"\"\"\n",
    "name: simple_linear_regression\n",
    "conda_env: conda.yaml\n",
    "\n",
    "entry_points:\n",
    "  main:\n",
    "    parameters:\n",
    "      alpha: {type: float, default: 0.5}\n",
    "    command: \"python train.py --alpha {alpha}\"\n",
    "\"\"\"\n",
    "\n",
    "with open(\"MLproject\", \"w\") as f:\n",
    "    f.write(project_yaml)\n",
    "\n",
    "# Creamos un entorno conda de ejemplo\n",
    "conda_yaml = \"\"\"\n",
    "name: simple-mlflow-env\n",
    "dependencies:\n",
    "  - python=3.8\n",
    "  - scikit-learn\n",
    "  - pip\n",
    "  - pip:\n",
    "      - mlflow\n",
    "\"\"\"\n",
    "\n",
    "with open(\"conda.yaml\", \"w\") as f:\n",
    "    f.write(conda_yaml)\n",
    "\n",
    "print(\"Archivo MLproject y conda.yaml creados 🎯\")\n"
   ]
  },
  {
   "cell_type": "markdown",
   "id": "27d2eb29",
   "metadata": {},
   "source": [
    "## 🧩 3. MLflow Models\n",
    " \n",
    "### 📄 Descripción\n",
    "**MLflow Models** permite:\n",
    " - Guardar modelos entrenados en formatos estándar.\n",
    " - Cargarlos fácilmente para predicción o despliegue.\n",
    " - Exportarlos a múltiples plataformas (Docker, REST API, mobile)."
   ]
  },
  {
   "cell_type": "code",
   "execution_count": 9,
   "id": "1eab7e4e",
   "metadata": {},
   "outputs": [
    {
     "name": "stdout",
     "output_type": "stream",
     "text": [
      "Predicción ejemplo: [-55.4786619   61.72358202]\n"
     ]
    }
   ],
   "source": [
    "# Guardamos el modelo entrenado en disco\n",
    "model_path = \"outputs/linear_model\"\n",
    "mlflow.sklearn.save_model(model, model_path)\n",
    "\n",
    "# Cargamos el modelo desde disco\n",
    "loaded_model = mlflow.sklearn.load_model(model_path)\n",
    "\n",
    "# Realizamos una predicción de prueba\n",
    "prediction = loaded_model.predict(X_test[:2])\n",
    "print(\"Predicción ejemplo:\", prediction)\n"
   ]
  },
  {
   "cell_type": "markdown",
   "id": "638c2eb6",
   "metadata": {},
   "source": [
    "## 🧩 4. MLflow Model Registry\n",
    " \n",
    "### 📄 Descripción\n",
    "**MLflow Model Registry** gestiona:\n",
    " - Versiones de modelos.\n",
    " - Etapas del ciclo de vida (Staging, Production, Archived).\n",
    " - Aprobaciones y revisiones de modelos.\n",
    " \n",
    " **Importante:** Para usarlo realmente se necesita un Tracking Server conectado a una base de datos.\n",
    " Aquí simulamos un ejemplo sencillo en local."
   ]
  },
  {
   "cell_type": "code",
   "execution_count": 10,
   "id": "40191139",
   "metadata": {},
   "outputs": [
    {
     "name": "stdout",
     "output_type": "stream",
     "text": [
      "Experimento 'Model_Registry_Example' ya existía, usando id 3 ✔️\n"
     ]
    },
    {
     "name": "stderr",
     "output_type": "stream",
     "text": [
      "2025/05/11 19:43:46 WARNING mlflow.models.model: Model logged without a signature and input example. Please set `input_example` parameter when logging the model to auto infer the model signature.\n",
      "Registered model 'LinearRegressionModel' already exists. Creating a new version of this model...\n",
      "2025/05/11 19:43:46 INFO mlflow.store.model_registry.abstract_store: Waiting up to 300 seconds for model version to finish creation. Model name: LinearRegressionModel, version 5\n",
      "Created version '5' of model 'LinearRegressionModel'.\n"
     ]
    },
    {
     "name": "stdout",
     "output_type": "stream",
     "text": [
      "🏃 View run registry_test_run at: http://localhost:5000/#/experiments/3/runs/c11e00b1a53841a2bee9de21e3c6933f\n",
      "🧪 View experiment at: http://localhost:5000/#/experiments/3\n"
     ]
    }
   ],
   "source": [
    "# Buscar si el experimento ya existe\n",
    "experiment_name = \"Model_Registry_Example\"\n",
    "\n",
    "experiment = mlflow.get_experiment_by_name(experiment_name)\n",
    "\n",
    "if experiment is None:\n",
    "    experiment_id = mlflow.create_experiment(experiment_name)\n",
    "    print(f\"Experimento '{experiment_name}' creado 🎯\")\n",
    "else:\n",
    "    experiment_id = experiment.experiment_id\n",
    "    print(f\"Experimento '{experiment_name}' ya existía, usando id {experiment_id} ✔️\")\n",
    "\n",
    "# Seteamos el experimento como activo\n",
    "mlflow.set_experiment(experiment_name)\n",
    "\n",
    "# Registramos el modelo\n",
    "with mlflow.start_run(run_name=\"registry_test_run\"):\n",
    "    mlflow.sklearn.log_model(model, \"model\", registered_model_name=\"LinearRegressionModel\")\n",
    "\n"
   ]
  }
 ],
 "metadata": {
  "kernelspec": {
   "display_name": "ITBA",
   "language": "python",
   "name": "python3"
  },
  "language_info": {
   "codemirror_mode": {
    "name": "ipython",
    "version": 3
   },
   "file_extension": ".py",
   "mimetype": "text/x-python",
   "name": "python",
   "nbconvert_exporter": "python",
   "pygments_lexer": "ipython3",
   "version": "3.9.5"
  }
 },
 "nbformat": 4,
 "nbformat_minor": 5
}
