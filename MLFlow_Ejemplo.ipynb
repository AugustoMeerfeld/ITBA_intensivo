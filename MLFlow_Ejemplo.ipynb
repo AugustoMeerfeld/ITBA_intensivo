{
 "cells": [
  {
   "cell_type": "markdown",
   "id": "f98dcd10",
   "metadata": {},
   "source": [
    "# 📓 MLflow - Ejemplos básicos\n",
    "# \n",
    "En esta notebook veremos ejemplos sencillos de:\n",
    "- MLflow Tracking\n",
    "- MLflow Projects\n",
    "- MLflow Models\n",
    "- MLflow Model Registry\n",
    "\n",
    "## Instalación y configuración inicial\n",
    "Instalación de MLflow (descomentar si no lo tienes instalado)\n",
    "!pip install mlflow\n"
   ]
  },
  {
   "cell_type": "code",
   "execution_count": 2,
   "id": "fc406509",
   "metadata": {},
   "outputs": [],
   "source": [
    "# ========================\n",
    "# MLflow - Ejemplos básicos\n",
    "# ========================\n",
    "\n",
    "# Instalación (si es necesario)\n",
    "# !pip install mlflow\n",
    "\n",
    "import mlflow\n",
    "import mlflow.sklearn\n",
    "from sklearn.linear_model import LinearRegression\n",
    "from sklearn.datasets import make_regression\n",
    "from sklearn.model_selection import train_test_split\n",
    "import os\n",
    "import yaml\n",
    "import pandas as pd\n",
    "# Crear carpeta para artefactos si no existe\n",
    "os.makedirs(\"outputs\", exist_ok=True)\n"
   ]
  },
  {
   "cell_type": "markdown",
   "id": "e03fc250",
   "metadata": {},
   "source": [
    "## 🧩 1. MLflow Tracking\n",
    " \n",
    "### 📄 Descripción\n",
    "Con **MLflow Tracking** registramos:\n",
    " - Parámetros (por ejemplo, hiperparámetros de un modelo).\n",
    " - Métricas (precisión, error, R2, etc.).\n",
    " - Artefactos (modelos entrenados, imágenes, datasets).\n",
    " \n",
    "Todo queda guardado en un historial organizado para análisis y comparación.\n"
   ]
  },
  {
   "cell_type": "markdown",
   "id": "3b966091",
   "metadata": {},
   "source": [
    "## Nombre del proyecto y url de MLFlow local"
   ]
  },
  {
   "cell_type": "code",
   "execution_count": 3,
   "id": "3e3914f3",
   "metadata": {},
   "outputs": [
    {
     "name": "stderr",
     "output_type": "stream",
     "text": [
      "WARNING:root:Malformed experiment '0'. Detailed error Yaml file 'C:\\Users\\guill\\OneDrive\\Documentos\\simplegit\\ITBA\\mlruns\\0\\meta.yaml' does not exist.\n",
      "Traceback (most recent call last):\n",
      "  File \"c:\\Users\\guill\\OneDrive\\Documentos\\simplegit\\ITBA\\ITBA\\lib\\site-packages\\mlflow\\store\\tracking\\file_store.py\", line 329, in search_experiments\n",
      "    exp = self._get_experiment(exp_id, view_type)\n",
      "  File \"c:\\Users\\guill\\OneDrive\\Documentos\\simplegit\\ITBA\\ITBA\\lib\\site-packages\\mlflow\\store\\tracking\\file_store.py\", line 427, in _get_experiment\n",
      "    meta = FileStore._read_yaml(experiment_dir, FileStore.META_DATA_FILE_NAME)\n",
      "  File \"c:\\Users\\guill\\OneDrive\\Documentos\\simplegit\\ITBA\\ITBA\\lib\\site-packages\\mlflow\\store\\tracking\\file_store.py\", line 1373, in _read_yaml\n",
      "    return _read_helper(root, file_name, attempts_remaining=retries)\n",
      "  File \"c:\\Users\\guill\\OneDrive\\Documentos\\simplegit\\ITBA\\ITBA\\lib\\site-packages\\mlflow\\store\\tracking\\file_store.py\", line 1366, in _read_helper\n",
      "    result = read_yaml(root, file_name)\n",
      "  File \"c:\\Users\\guill\\OneDrive\\Documentos\\simplegit\\ITBA\\ITBA\\lib\\site-packages\\mlflow\\utils\\file_utils.py\", line 310, in read_yaml\n",
      "    raise MissingConfigException(f\"Yaml file '{file_path}' does not exist.\")\n",
      "mlflow.exceptions.MissingConfigException: Yaml file 'C:\\Users\\guill\\OneDrive\\Documentos\\simplegit\\ITBA\\mlruns\\0\\meta.yaml' does not exist.\n",
      "WARNING:root:Malformed experiment '0'. Detailed error Yaml file 'C:\\Users\\guill\\OneDrive\\Documentos\\simplegit\\ITBA\\mlruns\\0\\meta.yaml' does not exist.\n",
      "Traceback (most recent call last):\n",
      "  File \"c:\\Users\\guill\\OneDrive\\Documentos\\simplegit\\ITBA\\ITBA\\lib\\site-packages\\mlflow\\store\\tracking\\file_store.py\", line 329, in search_experiments\n",
      "    exp = self._get_experiment(exp_id, view_type)\n",
      "  File \"c:\\Users\\guill\\OneDrive\\Documentos\\simplegit\\ITBA\\ITBA\\lib\\site-packages\\mlflow\\store\\tracking\\file_store.py\", line 427, in _get_experiment\n",
      "    meta = FileStore._read_yaml(experiment_dir, FileStore.META_DATA_FILE_NAME)\n",
      "  File \"c:\\Users\\guill\\OneDrive\\Documentos\\simplegit\\ITBA\\ITBA\\lib\\site-packages\\mlflow\\store\\tracking\\file_store.py\", line 1373, in _read_yaml\n",
      "    return _read_helper(root, file_name, attempts_remaining=retries)\n",
      "  File \"c:\\Users\\guill\\OneDrive\\Documentos\\simplegit\\ITBA\\ITBA\\lib\\site-packages\\mlflow\\store\\tracking\\file_store.py\", line 1366, in _read_helper\n",
      "    result = read_yaml(root, file_name)\n",
      "  File \"c:\\Users\\guill\\OneDrive\\Documentos\\simplegit\\ITBA\\ITBA\\lib\\site-packages\\mlflow\\utils\\file_utils.py\", line 310, in read_yaml\n",
      "    raise MissingConfigException(f\"Yaml file '{file_path}' does not exist.\")\n",
      "mlflow.exceptions.MissingConfigException: Yaml file 'C:\\Users\\guill\\OneDrive\\Documentos\\simplegit\\ITBA\\mlruns\\0\\meta.yaml' does not exist.\n",
      "2025/05/13 18:33:39 INFO mlflow.tracking.fluent: Experiment with name 'Regresion lineal 17' does not exist. Creating a new experiment.\n"
     ]
    },
    {
     "data": {
      "text/plain": [
       "<Experiment: artifact_location='file:///c:/Users/guill/OneDrive/Documentos/simplegit/ITBA/mlruns/496517268595748721', creation_time=1747172019048, experiment_id='496517268595748721', last_update_time=1747172019048, lifecycle_stage='active', name='Regresion lineal 17', tags={}>"
      ]
     },
     "execution_count": 3,
     "metadata": {},
     "output_type": "execute_result"
    }
   ],
   "source": [
    "#mlflow.set_tracking_uri(\"http://localhost:5000\")  # o la IP donde esté el Docker\n",
    "mlflow.set_experiment(\"Regresion lineal 17\")"
   ]
  },
  {
   "cell_type": "code",
   "execution_count": 22,
   "id": "67a3ecac",
   "metadata": {},
   "outputs": [],
   "source": [
    "# Datos ficticios\n",
    "X, y = make_regression(n_samples=100, n_features=1, noise=0.1, random_state=42)\n",
    "X_train, X_test, y_train, y_test = train_test_split(X, y, random_state=42)\n",
    "\n",
    "# 2. Guardar los datasets como CSV\n",
    "os.makedirs(\"data\", exist_ok=True)\n",
    "pd.DataFrame(X_train, columns=[\"x\"]).to_csv(\"data/X_train.csv\", index=False)\n",
    "pd.DataFrame(X_test, columns=[\"x\"]).to_csv(\"data/X_test.csv\", index=False)\n",
    "pd.DataFrame(y_train, columns=[\"y\"]).to_csv(\"data/y_train.csv\", index=False)\n",
    "pd.DataFrame(y_test, columns=[\"y\"]).to_csv(\"data/y_test.csv\", index=False)\n"
   ]
  },
  {
   "cell_type": "code",
   "execution_count": 21,
   "id": "b3607504",
   "metadata": {},
   "outputs": [
    {
     "name": "stderr",
     "output_type": "stream",
     "text": [
      "2025/05/11 23:32:54 WARNING mlflow.models.model: Model logged without a signature and input example. Please set `input_example` parameter when logging the model to auto infer the model signature.\n"
     ]
    },
    {
     "name": "stdout",
     "output_type": "stream",
     "text": [
      "Modelo guardado con R2: 1.00\n",
      "🏃 View run linear_regression_example 2 at: http://localhost:5000/#/experiments/395915654146616026/runs/07ab9b2436324b56a964c23fa1d14eb1\n",
      "🧪 View experiment at: http://localhost:5000/#/experiments/395915654146616026\n"
     ]
    }
   ],
   "source": [
    "# Ejemplo sencillo de Tracking\n",
    "\n",
    "#mlflow.end_run()\n",
    "# Empezar una corrida (run)\n",
    "with mlflow.start_run(run_name=\"linear_regression_example 2\"):\n",
    "    # Modelo\n",
    "    model = LinearRegression()\n",
    "    model.fit(X_train, y_train)\n",
    "    \n",
    "    # Parámetro (en este caso no hay hiperparámetros, así que lo simulamos)\n",
    "    mlflow.log_param(\"model_type\", \"LinearRegression\")\n",
    "    \n",
    "    # Métrica\n",
    "    score = model.score(X_test, y_test)\n",
    "    mlflow.log_metric(\"r2_score\", score)\n",
    "    \n",
    "    # Guardar el modelo\n",
    "    mlflow.sklearn.log_model(model, artifact_path=\"model\")\n",
    "    \n",
    "    print(f\"Modelo guardado con R2: {score:.2f}\")\n"
   ]
  },
  {
   "cell_type": "code",
   "execution_count": 22,
   "id": "125efc2c",
   "metadata": {},
   "outputs": [
    {
     "name": "stderr",
     "output_type": "stream",
     "text": [
      "2025/05/11 23:33:00 WARNING mlflow.models.model: Model logged without a signature and input example. Please set `input_example` parameter when logging the model to auto infer the model signature.\n"
     ]
    },
    {
     "name": "stdout",
     "output_type": "stream",
     "text": [
      "Modelo Ridge guardado con R2: 1.00\n",
      "🏃 View run ridge_regression_example 3 at: http://localhost:5000/#/experiments/395915654146616026/runs/80845bb41632443db3c6d863c91fc478\n",
      "🧪 View experiment at: http://localhost:5000/#/experiments/395915654146616026\n"
     ]
    },
    {
     "name": "stderr",
     "output_type": "stream",
     "text": [
      "Downloading artifacts: 100%|██████████| 7/7 [00:00<00:00, 1749.19it/s]\n"
     ]
    },
    {
     "data": {
      "text/plain": [
       "<mlflow.models.model.ModelInfo at 0x1f7fb7b6550>"
      ]
     },
     "execution_count": 22,
     "metadata": {},
     "output_type": "execute_result"
    }
   ],
   "source": [
    "from sklearn.linear_model import Ridge\n",
    "\n",
    "with mlflow.start_run(run_name=\"ridge_regression_example 3\"):\n",
    "    alpha = 0.7\n",
    "    model = Ridge(alpha=alpha)\n",
    "    model.fit(X_train, y_train)\n",
    "\n",
    "    mlflow.log_param(\"model_type\", \"Ridge\")\n",
    "    mlflow.log_param(\"alpha\", alpha)\n",
    "\n",
    "    score = model.score(X_test, y_test)\n",
    "    mlflow.log_metric(\"r2_score\", score)\n",
    "\n",
    "    mlflow.sklearn.log_model(model, artifact_path=\"model\")\n",
    "    print(f\"Modelo Ridge guardado con R2: {score:.2f}\")\n",
    "    X_train_path = \"data/X_train.csv\"\n",
    "    X_test_path = \"data/X_test.csv\"\n",
    "    y_train_path = \"data/y_train.csv\"\n",
    "    y_test_path = \"data/y_test.csv\"\n",
    "    mlflow.log_artifact(X_train_path, artifact_path=\"datasets\")\n",
    "    mlflow.log_artifact(X_test_path, artifact_path=\"datasets\")\n",
    "    mlflow.log_artifact(y_train_path, artifact_path=\"datasets\")\n",
    "    mlflow.log_artifact(y_test_path, artifact_path=\"datasets\")\n",
    "\n",
    "mlflow.sklearn.log_model(model, \"model\", input_example=X_test[:1])\n",
    "    "
   ]
  },
  {
   "cell_type": "code",
   "execution_count": 4,
   "id": "e9ca6bfe",
   "metadata": {},
   "outputs": [],
   "source": [
    "import mlflow\n",
    "import numpy as np\n",
    "\n",
    "with mlflow.start_run(run_name=\"training_with_curve\"):\n",
    "    for epoch in range(10):\n",
    "        # Simulación de loss que baja\n",
    "        loss = np.exp(-epoch / 5)\n",
    "\n",
    "        # Logueás la métrica con `step` para que MLflow genere la curva\n",
    "        mlflow.log_metric(\"loss\", loss, step=epoch)\n"
   ]
  },
  {
   "cell_type": "code",
   "execution_count": 27,
   "id": "4e4809f5",
   "metadata": {},
   "outputs": [],
   "source": [
    "mlflow.set_experiment(\"Regresion lineal 8\")\n",
    "\n",
    "mlflow.set_tag(\"model_name\", \"RandomForest\")\n",
    "mlflow.set_tag(\"experiment\", \"baseline\")\n",
    "\n",
    "models = {\"LinearRegression\": LinearRegression(), \"Ridge\": Ridge(alpha=0.5)}\n",
    "\n"
   ]
  },
  {
   "cell_type": "code",
   "execution_count": 28,
   "id": "dd9b0482",
   "metadata": {},
   "outputs": [
    {
     "name": "stdout",
     "output_type": "stream",
     "text": [
      "🏃 View run fearless-mare-156 at: http://localhost:5000/#/experiments/128589332145951270/runs/92a37d8eb5c64b47aafc1f261ff83727\n",
      "🧪 View experiment at: http://localhost:5000/#/experiments/128589332145951270\n"
     ]
    },
    {
     "name": "stderr",
     "output_type": "stream",
     "text": [
      "2025/05/11 23:34:06 WARNING mlflow.models.model: Model logged without a signature and input example. Please set `input_example` parameter when logging the model to auto infer the model signature.\n"
     ]
    },
    {
     "name": "stdout",
     "output_type": "stream",
     "text": [
      "🏃 View run LinearRegression at: http://localhost:5000/#/experiments/128589332145951270/runs/62097901e6974d668efd3ce344a99fdf\n",
      "🧪 View experiment at: http://localhost:5000/#/experiments/128589332145951270\n"
     ]
    },
    {
     "name": "stderr",
     "output_type": "stream",
     "text": [
      "2025/05/11 23:34:09 WARNING mlflow.models.model: Model logged without a signature and input example. Please set `input_example` parameter when logging the model to auto infer the model signature.\n"
     ]
    },
    {
     "name": "stdout",
     "output_type": "stream",
     "text": [
      "🏃 View run Ridge at: http://localhost:5000/#/experiments/128589332145951270/runs/eab2a1d7beee483e84d8153f4cb14580\n",
      "🧪 View experiment at: http://localhost:5000/#/experiments/128589332145951270\n"
     ]
    }
   ],
   "source": [
    "mlflow.end_run()\n",
    "for name, model in models.items():\n",
    "    with mlflow.start_run(run_name=name):\n",
    "        mlflow.set_tag(\"model_name\", name)\n",
    "\n",
    "        for epoch in range(10):\n",
    "            loss = np.exp(-epoch / 5)  # Ejemplo de pérdida\n",
    "            mlflow.log_metric(\"loss\", loss, step=epoch)\n",
    "\n",
    "        mlflow.sklearn.log_model(model, artifact_path=\"model\")\n",
    "\n"
   ]
  },
  {
   "cell_type": "code",
   "execution_count": 58,
   "id": "dd92e968",
   "metadata": {},
   "outputs": [
    {
     "name": "stderr",
     "output_type": "stream",
     "text": [
      "2025/05/11 22:50:38 INFO mlflow.tracking.fluent: Experiment with name 'Seleccionar mejor modelo' does not exist. Creating a new experiment.\n",
      "2025/05/11 22:50:40 WARNING mlflow.models.model: Model logged without a signature and input example. Please set `input_example` parameter when logging the model to auto infer the model signature.\n",
      "2025/05/11 22:50:42 WARNING mlflow.models.model: Model logged without a signature and input example. Please set `input_example` parameter when logging the model to auto infer the model signature.\n"
     ]
    }
   ],
   "source": [
    "mlflow.set_experiment(\"Seleccionar mejor modelo\")\n",
    "\n",
    "import mlflow\n",
    "import mlflow.sklearn\n",
    "import numpy as np\n",
    "from sklearn.linear_model import LinearRegression, Ridge\n",
    "from sklearn.model_selection import train_test_split\n",
    "from sklearn.metrics import mean_squared_error\n",
    "\n",
    "# Datos ficticios\n",
    "X, y = make_regression(n_samples=100, n_features=1, noise=0.1, random_state=42)\n",
    "X_train, X_test, y_train, y_test = train_test_split(X, y, random_state=42)\n",
    "\n",
    "# Modelos a evaluar\n",
    "models = {\"LinearRegression\": LinearRegression(), \"Ridge\": Ridge(alpha=0.5)}\n",
    "\n",
    "best_model = None\n",
    "best_score = -np.inf  # Mejor score encontrado (por ejemplo, R2 o MSE)\n",
    "\n",
    "# Comenzamos los experimentos para cada modelo\n",
    "for name, model in models.items():\n",
    "    with mlflow.start_run(run_name=name):\n",
    "        mlflow.set_tag(\"model_name\", name)\n",
    "\n",
    "        # Entrenamiento\n",
    "        model.fit(X_train, y_train)\n",
    "\n",
    "        # Predicciones y métricas\n",
    "        y_pred = model.predict(X_test)\n",
    "        score = mean_squared_error(y_test, y_pred)  # Usamos MSE como ejemplo\n",
    "        \n",
    "        # Registro de parámetros y métricas\n",
    "        mlflow.log_param(\"model_type\", name)\n",
    "        mlflow.log_metric(\"mse\", score)\n",
    "        \n",
    "        # Guardamos el modelo\n",
    "        mlflow.sklearn.log_model(model, artifact_path=\"model\")\n",
    "        \n",
    "        # Evaluamos cuál es el mejor modelo\n",
    "        if score < best_score:  # MSE más bajo es mejor\n",
    "            best_score = score\n",
    "            best_model = model\n",
    "            mlflow.log_param(\"best_model\", True)  # Marcamos el modelo ganador\n",
    "\n",
    "# Ahora puedes registrar el mejor modelo global\n",
    "if best_model:\n",
    "    with mlflow.start_run(run_name=\"Best_Model\"):\n",
    "        mlflow.log_param(\"best_model_name\", best_model.__class__.__name__)\n",
    "        mlflow.sklearn.log_model(best_model, artifact_path=\"best_model\")\n",
    "        print(\"Modelo ganador registrado!\")\n"
   ]
  },
  {
   "cell_type": "markdown",
   "id": "68240b70",
   "metadata": {},
   "source": [
    "## HYPERPARAMETER TUNING"
   ]
  },
  {
   "cell_type": "code",
   "execution_count": null,
   "id": "fb5de739",
   "metadata": {},
   "outputs": [
    {
     "name": "stderr",
     "output_type": "stream",
     "text": [
      "WARNING:root:Malformed experiment '0'. Detailed error Yaml file 'C:\\Users\\guill\\OneDrive\\Documentos\\simplegit\\ITBA\\mlruns\\0\\meta.yaml' does not exist.\n",
      "Traceback (most recent call last):\n",
      "  File \"c:\\Users\\guill\\OneDrive\\Documentos\\simplegit\\ITBA\\ITBA\\lib\\site-packages\\mlflow\\store\\tracking\\file_store.py\", line 329, in search_experiments\n",
      "    exp = self._get_experiment(exp_id, view_type)\n",
      "  File \"c:\\Users\\guill\\OneDrive\\Documentos\\simplegit\\ITBA\\ITBA\\lib\\site-packages\\mlflow\\store\\tracking\\file_store.py\", line 427, in _get_experiment\n",
      "    meta = FileStore._read_yaml(experiment_dir, FileStore.META_DATA_FILE_NAME)\n",
      "  File \"c:\\Users\\guill\\OneDrive\\Documentos\\simplegit\\ITBA\\ITBA\\lib\\site-packages\\mlflow\\store\\tracking\\file_store.py\", line 1373, in _read_yaml\n",
      "    return _read_helper(root, file_name, attempts_remaining=retries)\n",
      "  File \"c:\\Users\\guill\\OneDrive\\Documentos\\simplegit\\ITBA\\ITBA\\lib\\site-packages\\mlflow\\store\\tracking\\file_store.py\", line 1366, in _read_helper\n",
      "    result = read_yaml(root, file_name)\n",
      "  File \"c:\\Users\\guill\\OneDrive\\Documentos\\simplegit\\ITBA\\ITBA\\lib\\site-packages\\mlflow\\utils\\file_utils.py\", line 310, in read_yaml\n",
      "    raise MissingConfigException(f\"Yaml file '{file_path}' does not exist.\")\n",
      "mlflow.exceptions.MissingConfigException: Yaml file 'C:\\Users\\guill\\OneDrive\\Documentos\\simplegit\\ITBA\\mlruns\\0\\meta.yaml' does not exist.\n",
      "WARNING:root:Malformed experiment '0'. Detailed error Yaml file 'C:\\Users\\guill\\OneDrive\\Documentos\\simplegit\\ITBA\\mlruns\\0\\meta.yaml' does not exist.\n",
      "Traceback (most recent call last):\n",
      "  File \"c:\\Users\\guill\\OneDrive\\Documentos\\simplegit\\ITBA\\ITBA\\lib\\site-packages\\mlflow\\store\\tracking\\file_store.py\", line 329, in search_experiments\n",
      "    exp = self._get_experiment(exp_id, view_type)\n",
      "  File \"c:\\Users\\guill\\OneDrive\\Documentos\\simplegit\\ITBA\\ITBA\\lib\\site-packages\\mlflow\\store\\tracking\\file_store.py\", line 427, in _get_experiment\n",
      "    meta = FileStore._read_yaml(experiment_dir, FileStore.META_DATA_FILE_NAME)\n",
      "  File \"c:\\Users\\guill\\OneDrive\\Documentos\\simplegit\\ITBA\\ITBA\\lib\\site-packages\\mlflow\\store\\tracking\\file_store.py\", line 1373, in _read_yaml\n",
      "    return _read_helper(root, file_name, attempts_remaining=retries)\n",
      "  File \"c:\\Users\\guill\\OneDrive\\Documentos\\simplegit\\ITBA\\ITBA\\lib\\site-packages\\mlflow\\store\\tracking\\file_store.py\", line 1366, in _read_helper\n",
      "    result = read_yaml(root, file_name)\n",
      "  File \"c:\\Users\\guill\\OneDrive\\Documentos\\simplegit\\ITBA\\ITBA\\lib\\site-packages\\mlflow\\utils\\file_utils.py\", line 310, in read_yaml\n",
      "    raise MissingConfigException(f\"Yaml file '{file_path}' does not exist.\")\n",
      "mlflow.exceptions.MissingConfigException: Yaml file 'C:\\Users\\guill\\OneDrive\\Documentos\\simplegit\\ITBA\\mlruns\\0\\meta.yaml' does not exist.\n",
      "2025/05/13 20:10:43 INFO mlflow.tracking.fluent: Experiment with name 'Ridge Regression GridSearch' does not exist. Creating a new experiment.\n",
      "2025/05/13 20:10:46 WARNING mlflow.models.model: Model logged without a signature and input example. Please set `input_example` parameter when logging the model to auto infer the model signature.\n"
     ]
    }
   ],
   "source": [
    "import mlflow\n",
    "import mlflow.sklearn\n",
    "from mlflow import log_param, log_metric, log_artifact\n",
    "\n",
    "from sklearn.datasets import load_diabetes\n",
    "from sklearn.model_selection import GridSearchCV\n",
    "from sklearn.linear_model import Ridge\n",
    "from sklearn.metrics import mean_squared_error\n",
    "from sklearn.model_selection import train_test_split\n",
    "\n",
    "import json\n",
    "import joblib\n",
    "\n",
    "# Cargar los datos\n",
    "X, y = load_diabetes(return_X_y=True)\n",
    "X_train, X_test, y_train, y_test = train_test_split(X, y, test_size=0.2, random_state=42)\n",
    "\n",
    "# Definir el modelo y el espacio de búsqueda\n",
    "model = Ridge()\n",
    "param_grid = {\n",
    "    'alpha': [0.1, 1.0, 10.0],\n",
    "    'solver': ['auto', 'svd']\n",
    "}\n",
    "\n",
    "# Configurar GridSearchCV\n",
    "grid_search = GridSearchCV(model, param_grid, cv=3, scoring=\"neg_mean_squared_error\", return_train_score=True)\n",
    "\n",
    "# Iniciar experimento en MLflow\n",
    "mlflow.set_experiment(\"Ridge Regression GridSearch\")\n",
    "with mlflow.start_run(run_name=\"GridSearchCV\") as run:\n",
    "    # Guardar el grid como parámetro\n",
    "    mlflow.log_param(\"param_grid\", param_grid)\n",
    "    \n",
    "    # Guardar el grid como archivo JSON\n",
    "    with open(\"param_grid.json\", \"w\") as f:\n",
    "        json.dump(param_grid, f)\n",
    "    mlflow.log_artifact(\"param_grid.json\")\n",
    "    \n",
    "    # Ejecutar GridSearch\n",
    "    grid_search.fit(X_train, y_train)\n",
    "        \n",
    "    # Loguear cada intento como sub-run\n",
    "    for i, params in enumerate(grid_search.cv_results_[\"params\"]):\n",
    "        with mlflow.start_run(run_name=f\"trial_{i}\", nested=True):\n",
    "            mlflow.log_params(params)\n",
    "            mlflow.log_metric(\"mean_test_score\", grid_search.cv_results_[\"mean_test_score\"][i])\n",
    "            mlflow.log_metric(\"mean_train_score\", grid_search.cv_results_[\"mean_train_score\"][i])\n",
    "    \n",
    "    # Evaluar el mejor modelo\n",
    "    best_model = grid_search.best_estimator_\n",
    "    y_pred = best_model.predict(X_test)\n",
    "    mse = mean_squared_error(y_test, y_pred)\n",
    "    mlflow.log_metric(\"test_mse\", mse)\n",
    "    \n",
    "    # Guardar el modelo y objeto grid_search completo\n",
    "    mlflow.sklearn.log_model(best_model, \"best_model\")\n",
    "    joblib.dump(grid_search, \"grid_search.pkl\")\n",
    "    mlflow.log_artifact(\"grid_search.pkl\")\n"
   ]
  },
  {
   "cell_type": "markdown",
   "id": "fc8efb44",
   "metadata": {},
   "source": [
    "## 🧩 2. MLflow Projects\n",
    " \n",
    "### 📄 Descripción\n",
    "**MLflow Projects** define un estándar para empaquetar proyectos de ML, haciéndolos:\n",
    " - Reproducibles (cualquiera puede correrlo igual).\n",
    " - Ejecutables localmente o en la nube.\n",
    " - Versionables junto al código.\n",
    " \n",
    "<!-- Utiliza un archivo `MLproject` (YAML) para describir dependencias y comandos de entrada. -->\n"
   ]
  },
  {
   "cell_type": "code",
   "execution_count": 8,
   "id": "0b21d838",
   "metadata": {},
   "outputs": [
    {
     "name": "stdout",
     "output_type": "stream",
     "text": [
      "Archivo MLproject y conda.yaml creados 🎯\n"
     ]
    }
   ],
   "source": [
    "# Creamos un archivo MLproject para definir el proyecto\n",
    "\n",
    "project_yaml = \"\"\"\n",
    "name: simple_linear_regression\n",
    "conda_env: conda.yaml\n",
    "\n",
    "entry_points:\n",
    "  main:\n",
    "    parameters:\n",
    "      alpha: {type: float, default: 0.5}\n",
    "    command: \"python train.py --alpha {alpha}\"\n",
    "\"\"\"\n",
    "\n",
    "with open(\"MLproject\", \"w\") as f:\n",
    "    f.write(project_yaml)\n",
    "\n",
    "# Creamos un entorno conda de ejemplo\n",
    "conda_yaml = \"\"\"\n",
    "name: simple-mlflow-env\n",
    "dependencies:\n",
    "  - python=3.8\n",
    "  - scikit-learn\n",
    "  - pip\n",
    "  - pip:\n",
    "      - mlflow\n",
    "\"\"\"\n",
    "\n",
    "with open(\"conda.yaml\", \"w\") as f:\n",
    "    f.write(conda_yaml)\n",
    "\n",
    "print(\"Archivo MLproject y conda.yaml creados 🎯\")\n"
   ]
  },
  {
   "cell_type": "markdown",
   "id": "27d2eb29",
   "metadata": {},
   "source": [
    "## 🧩 3. MLflow Models\n",
    " \n",
    "### 📄 Descripción\n",
    "**MLflow Models** permite:\n",
    " - Guardar modelos entrenados en formatos estándar.\n",
    " - Cargarlos fácilmente para predicción o despliegue.\n",
    " - Exportarlos a múltiples plataformas (Docker, REST API, mobile)."
   ]
  },
  {
   "cell_type": "code",
   "execution_count": 9,
   "id": "1eab7e4e",
   "metadata": {},
   "outputs": [
    {
     "name": "stdout",
     "output_type": "stream",
     "text": [
      "Predicción ejemplo: [-55.4786619   61.72358202]\n"
     ]
    }
   ],
   "source": [
    "# Guardamos el modelo entrenado en disco\n",
    "model_path = \"outputs/linear_model\"\n",
    "mlflow.sklearn.save_model(model, model_path)\n",
    "\n",
    "# Cargamos el modelo desde disco\n",
    "loaded_model = mlflow.sklearn.load_model(model_path)\n",
    "\n",
    "# Realizamos una predicción de prueba\n",
    "prediction = loaded_model.predict(X_test[:2])\n",
    "print(\"Predicción ejemplo:\", prediction)\n"
   ]
  },
  {
   "cell_type": "markdown",
   "id": "638c2eb6",
   "metadata": {},
   "source": [
    "## 🧩 4. MLflow Model Registry\n",
    " \n",
    "### 📄 Descripción\n",
    "**MLflow Model Registry** gestiona:\n",
    " - Versiones de modelos.\n",
    " - Etapas del ciclo de vida (Staging, Production, Archived).\n",
    " - Aprobaciones y revisiones de modelos.\n",
    " \n",
    " **Importante:** Para usarlo realmente se necesita un Tracking Server conectado a una base de datos.\n",
    " Aquí simulamos un ejemplo sencillo en local."
   ]
  },
  {
   "cell_type": "code",
   "execution_count": null,
   "id": "80e382fd",
   "metadata": {},
   "outputs": [],
   "source": [
    "#import mlflow\n",
    "#from mlflow.tracking import MlflowClient\n",
    "\n",
    "# Paso 1: Especificar el run_id y la ruta del modelo dentro del run\n",
    "#run_id = \"TU_RUN_ID\"\n",
    "#model_path = \"best_model\"  # o como lo hayas llamado: \"model\", \"sk_model\", etc.\n",
    "\n",
    "# Paso 2: Registrar el modelo\n",
    "#model_uri = f\"runs:/{run_id}/{model_path}\"\n",
    "#model_name = \"ridge_model_v1\"\n",
    "\n",
    "#mlflow.register_model(model_uri=model_uri, name=model_name)\n"
   ]
  },
  {
   "cell_type": "code",
   "execution_count": 10,
   "id": "40191139",
   "metadata": {},
   "outputs": [
    {
     "name": "stdout",
     "output_type": "stream",
     "text": [
      "Experimento 'Model_Registry_Example' ya existía, usando id 3 ✔️\n"
     ]
    },
    {
     "name": "stderr",
     "output_type": "stream",
     "text": [
      "2025/05/11 19:43:46 WARNING mlflow.models.model: Model logged without a signature and input example. Please set `input_example` parameter when logging the model to auto infer the model signature.\n",
      "Registered model 'LinearRegressionModel' already exists. Creating a new version of this model...\n",
      "2025/05/11 19:43:46 INFO mlflow.store.model_registry.abstract_store: Waiting up to 300 seconds for model version to finish creation. Model name: LinearRegressionModel, version 5\n",
      "Created version '5' of model 'LinearRegressionModel'.\n"
     ]
    },
    {
     "name": "stdout",
     "output_type": "stream",
     "text": [
      "🏃 View run registry_test_run at: http://localhost:5000/#/experiments/3/runs/c11e00b1a53841a2bee9de21e3c6933f\n",
      "🧪 View experiment at: http://localhost:5000/#/experiments/3\n"
     ]
    }
   ],
   "source": [
    "# Buscar si el experimento ya existe\n",
    "experiment_name = \"Model_Registry_Example\"\n",
    "\n",
    "experiment = mlflow.get_experiment_by_name(experiment_name)\n",
    "\n",
    "if experiment is None:\n",
    "    experiment_id = mlflow.create_experiment(experiment_name)\n",
    "    print(f\"Experimento '{experiment_name}' creado 🎯\")\n",
    "else:\n",
    "    experiment_id = experiment.experiment_id\n",
    "    print(f\"Experimento '{experiment_name}' ya existía, usando id {experiment_id} ✔️\")\n",
    "\n",
    "# Seteamos el experimento como activo\n",
    "mlflow.set_experiment(experiment_name)\n",
    "\n",
    "# Registramos el modelo\n",
    "with mlflow.start_run(run_name=\"registry_test_run\"):\n",
    "    mlflow.sklearn.log_model(model, \"model\", registered_model_name=\"LinearRegressionModel\")\n",
    "\n"
   ]
  },
  {
   "cell_type": "code",
   "execution_count": 12,
   "id": "31505f83",
   "metadata": {},
   "outputs": [
    {
     "name": "stdout",
     "output_type": "stream",
     "text": [
      "Ridge\n",
      "modelo ganador\n"
     ]
    }
   ],
   "source": [
    "# Búsqueda de modelos con filtros\n",
    "models = client.search_registered_models(filter_string=\"name LIKE '%'\")\n",
    "for model in models:\n",
    "    print(model.name)"
   ]
  },
  {
   "cell_type": "code",
   "execution_count": 34,
   "id": "080451f0",
   "metadata": {},
   "outputs": [],
   "source": [
    "import mlflow\n",
    "\n",
    "\n",
    "# Opción 4: Cargar desde una etapa específica (si usas ciclo de vida de MLflow)\n",
    "loaded_model = mlflow.pyfunc.load_model(\"models:/Ridge/1\")  # Otras opciones: staging, archived\n",
    "\n",
    "# Usar el modelo para predicciones\n",
    "data= X_train[[0]]\n",
    "predictions = loaded_model.predict(data)"
   ]
  },
  {
   "cell_type": "code",
   "execution_count": 35,
   "id": "0efbec74",
   "metadata": {},
   "outputs": [
    {
     "data": {
      "text/plain": [
       "array([3.74572842])"
      ]
     },
     "execution_count": 35,
     "metadata": {},
     "output_type": "execute_result"
    }
   ],
   "source": [
    "predictions"
   ]
  },
  {
   "cell_type": "code",
   "execution_count": null,
   "id": "1be62ae2",
   "metadata": {},
   "outputs": [
    {
     "data": {
      "text/plain": [
       "array([[0.09176078]])"
      ]
     },
     "execution_count": 33,
     "metadata": {},
     "output_type": "execute_result"
    }
   ],
   "source": [
    "X_train[[0]]"
   ]
  },
  {
   "cell_type": "code",
   "execution_count": null,
   "id": "244199bd",
   "metadata": {},
   "outputs": [],
   "source": [
    "%%writefile app.py\n",
    "\n",
    "import uvicorn\n",
    "import mlflow\n",
    "import numpy as np\n",
    "from fastapi import FastAPI, HTTPException\n",
    "from pydantic import BaseModel\n",
    "from typing import List\n",
    "\n",
    "# Crear la aplicación FastAPI\n",
    "app = FastAPI(title=\"Modelo ML API\", description=\"API para servir predicciones del modelo de MLflow\")\n",
    "\n",
    "# Cargar el modelo al iniciar la aplicación\n",
    "# Reemplaza \"models:/nombre_modelo/version\" con tu ruta real\n",
    "model = mlflow.pyfunc.load_model(\"models:/Ridge/1\")\n",
    "\n",
    "# Definir el esquema de la solicitud\n",
    "class PredictionRequest(BaseModel):\n",
    "    features: List[List[float]]\n",
    "\n",
    "# Definir el esquema de la respuesta\n",
    "class PredictionResponse(BaseModel):\n",
    "    predictions: List\n",
    "\n",
    "@app.post(\"/predict\", response_model=PredictionResponse)\n",
    "def predict(request: PredictionRequest):\n",
    "    try:\n",
    "        # Convertir las características a un array numpy\n",
    "        features = np.array(request.features)\n",
    "        # Realizar la predicción\n",
    "        predictions = model.predict(features).tolist()\n",
    "        # Devolver las predicciones\n",
    "        return PredictionResponse(predictions=predictions)\n",
    "    except Exception as e:\n",
    "        raise HTTPException(status_code=500, detail=str(e))\n",
    "\n",
    "@app.get(\"/health\")\n",
    "def health():\n",
    "    return {\"status\": \"ok\"}\n",
    "\n"
   ]
  },
  {
   "cell_type": "code",
   "execution_count": null,
   "id": "d0968254",
   "metadata": {},
   "outputs": [
    {
     "name": "stderr",
     "output_type": "stream",
     "text": [
      "INFO:     Will watch for changes in these directories: ['c:\\\\Users\\\\guill\\\\OneDrive\\\\Documentos\\\\simplegit\\\\ITBA']\n",
      "INFO:     Uvicorn running on http://localhost:7000 (Press CTRL+C to quit)\n",
      "INFO:     Started reloader process [13244] using WatchFiles\n"
     ]
    }
   ],
   "source": [
    "import uvicorn\n",
    "import mlflow\n",
    "import numpy as np\n",
    "from fastapi import FastAPI, HTTPException\n",
    "from pydantic import BaseModel\n",
    "from typing import List\n",
    "\n",
    "uvicorn.run(\"app:app\", host=\"localhost\", port=7000, reload=True)\n",
    "#curl -X POST \"http://localhost:7000/predict\"      -H \"Content-Type: application/json\"      -d '{\"features\": [[1.2], [3.5]]}'\n"
   ]
  }
 ],
 "metadata": {
  "kernelspec": {
   "display_name": "ITBA",
   "language": "python",
   "name": "python3"
  },
  "language_info": {
   "codemirror_mode": {
    "name": "ipython",
    "version": 3
   },
   "file_extension": ".py",
   "mimetype": "text/x-python",
   "name": "python",
   "nbconvert_exporter": "python",
   "pygments_lexer": "ipython3",
   "version": "3.9.5"
  }
 },
 "nbformat": 4,
 "nbformat_minor": 5
}
