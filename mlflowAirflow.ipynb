{
 "cells": [
  {
   "cell_type": "code",
   "execution_count": 1,
   "metadata": {},
   "outputs": [
    {
     "ename": "ModuleNotFoundError",
     "evalue": "No module named 'airflow'",
     "output_type": "error",
     "traceback": [
      "\u001b[31m---------------------------------------------------------------------------\u001b[39m",
      "\u001b[31mModuleNotFoundError\u001b[39m                       Traceback (most recent call last)",
      "\u001b[36mCell\u001b[39m\u001b[36m \u001b[39m\u001b[32mIn[1]\u001b[39m\u001b[32m, line 1\u001b[39m\n\u001b[32m----> \u001b[39m\u001b[32m1\u001b[39m \u001b[38;5;28;01mfrom\u001b[39;00m\u001b[38;5;250m \u001b[39m\u001b[34;01mairflow\u001b[39;00m\u001b[38;5;250m \u001b[39m\u001b[38;5;28;01mimport\u001b[39;00m DAG\n\u001b[32m      2\u001b[39m \u001b[38;5;28;01mfrom\u001b[39;00m\u001b[38;5;250m \u001b[39m\u001b[34;01mairflow\u001b[39;00m\u001b[34;01m.\u001b[39;00m\u001b[34;01moperators\u001b[39;00m\u001b[34;01m.\u001b[39;00m\u001b[34;01mpython\u001b[39;00m\u001b[38;5;250m \u001b[39m\u001b[38;5;28;01mimport\u001b[39;00m PythonOperator\n\u001b[32m      3\u001b[39m \u001b[38;5;28;01mfrom\u001b[39;00m\u001b[38;5;250m \u001b[39m\u001b[34;01mdatetime\u001b[39;00m\u001b[38;5;250m \u001b[39m\u001b[38;5;28;01mimport\u001b[39;00m datetime\n",
      "\u001b[31mModuleNotFoundError\u001b[39m: No module named 'airflow'"
     ]
    }
   ],
   "source": [
    "\n",
    "from airflow import DAG\n",
    "from airflow.operators.python import PythonOperator\n",
    "from datetime import datetime\n",
    "import mlflow\n",
    "import mlflow.sklearn\n",
    "import pandas as pd\n",
    "import numpy as np\n",
    "from sklearn.model_selection import train_test_split\n",
    "from sklearn.linear_model import LogisticRegression\n",
    "from sklearn.metrics import accuracy_score\n",
    "\n",
    "# Definir parámetros del experimento MLflow\n",
    "MLFLOW_EXPERIMENT = \"Logistic_Regression_Experiment\"\n",
    "MLFLOW_TRACKING_URI = \"file:///tmp/mlruns\"  # Cambiar si se usa un servidor MLflow remoto\n",
    "\n",
    "# Inicializar MLflow\n",
    "mlflow.set_tracking_uri(MLFLOW_TRACKING_URI)\n",
    "mlflow.set_experiment(MLFLOW_EXPERIMENT)\n",
    "\n",
    "def train_model():\n",
    "    \"\"\"Carga datos, entrena un modelo y registra resultados en MLflow.\"\"\"\n",
    "    # Generar datos sintéticos\n",
    "    np.random.seed(42)\n",
    "    X = np.random.rand(1000, 5)\n",
    "    y = (X[:, 0] + X[:, 1] > 1).astype(int)\n",
    "    \n",
    "    # Dividir datos en entrenamiento y prueba\n",
    "    X_train, X_test, y_train, y_test = train_test_split(X, y, test_size=0.2, random_state=42)\n",
    "    \n",
    "    with mlflow.start_run():\n",
    "        # Entrenar modelo\n",
    "        model = LogisticRegression()\n",
    "        model.fit(X_train, y_train)\n",
    "        \n",
    "        # Evaluar modelo\n",
    "        y_pred = model.predict(X_test)\n",
    "        acc = accuracy_score(y_test, y_pred)\n",
    "        \n",
    "        # Registrar parámetros, métricas y modelo en MLflow\n",
    "        mlflow.log_param(\"solver\", \"lbfgs\")\n",
    "        mlflow.log_param(\"penalty\", \"l2\")\n",
    "        mlflow.log_metric(\"accuracy\", acc)\n",
    "        mlflow.sklearn.log_model(model, \"logistic_regression_model\")\n",
    "        \n",
    "        print(f\"Modelo registrado con precisión: {acc:.4f}\")\n",
    "\n",
    "# Definir el DAG de Airflow\n",
    "default_args = {\n",
    "    \"owner\": \"airflow\",\n",
    "    \"depends_on_past\": False,\n",
    "    \"start_date\": datetime(2025, 3, 24),\n",
    "    \"retries\": 1,\n",
    "}\n",
    "\n",
    "dag = DAG(\n",
    "    \"mlflow_training_pipeline\",\n",
    "    default_args=default_args,\n",
    "    description=\"Entrenamiento de un modelo ML con MLflow y Airflow\",\n",
    "    schedule_interval=\"@daily\",  # Corre una vez al día\n",
    "    catchup=False,\n",
    ")\n",
    "\n",
    "# Definir tarea en Airflow\n",
    "train_task = PythonOperator(\n",
    "    task_id=\"train_model\",\n",
    "    python_callable=train_model,\n",
    "    dag=dag,\n",
    ")\n",
    "\n",
    "train_task\n"
   ]
  }
 ],
 "metadata": {
  "kernelspec": {
   "display_name": "nombredelentorno",
   "language": "python",
   "name": "python3"
  },
  "language_info": {
   "codemirror_mode": {
    "name": "ipython",
    "version": 3
   },
   "file_extension": ".py",
   "mimetype": "text/x-python",
   "name": "python",
   "nbconvert_exporter": "python",
   "pygments_lexer": "ipython3",
   "version": "3.13.2"
  }
 },
 "nbformat": 4,
 "nbformat_minor": 2
}
